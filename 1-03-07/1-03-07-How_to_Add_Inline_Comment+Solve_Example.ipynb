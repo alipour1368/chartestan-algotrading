{
 "cells": [
  {
   "cell_type": "markdown",
   "id": "9c1e07c5",
   "metadata": {
    "direction": "rtl"
   },
   "source": [
    "# محاسبه ارزش آتی (FV)"
   ]
  },
  {
   "cell_type": "markdown",
   "id": "9c5cc84d",
   "metadata": {
    "direction": "rtl"
   },
   "source": [
    "### پس از سرمایه گذاری ۱٬۰۰۰٬۰۰۰ تومان برای یک سال با نرخ بهره ۲۳% سالیانه، پول شما چقدر می شود؟"
   ]
  },
  {
   "cell_type": "code",
   "execution_count": 1,
   "id": "86aac050",
   "metadata": {},
   "outputs": [
    {
     "data": {
      "text/plain": [
       "1230000.0"
      ]
     },
     "execution_count": 1,
     "metadata": {},
     "output_type": "execute_result"
    }
   ],
   "source": [
    "1000000 * 1.23"
   ]
  },
  {
   "cell_type": "code",
   "execution_count": 2,
   "id": "e558fce2",
   "metadata": {},
   "outputs": [
    {
     "data": {
      "text/plain": [
       "1230000.0"
      ]
     },
     "execution_count": 2,
     "metadata": {},
     "output_type": "execute_result"
    }
   ],
   "source": [
    "1_000_000 * 1.23"
   ]
  },
  {
   "cell_type": "code",
   "execution_count": 3,
   "id": "2859abd1",
   "metadata": {},
   "outputs": [
    {
     "data": {
      "text/plain": [
       "1230000.0"
      ]
     },
     "execution_count": 3,
     "metadata": {},
     "output_type": "execute_result"
    }
   ],
   "source": [
    "1_000_000 + 1_000_000 * 0.23"
   ]
  },
  {
   "cell_type": "code",
   "execution_count": 4,
   "id": "6180ae0f",
   "metadata": {},
   "outputs": [
    {
     "data": {
      "text/plain": [
       "1230000.0"
      ]
     },
     "execution_count": 4,
     "metadata": {},
     "output_type": "execute_result"
    }
   ],
   "source": [
    "1_000_000 * (1 + 0.23)"
   ]
  },
  {
   "cell_type": "code",
   "execution_count": 5,
   "id": "7f6b8554",
   "metadata": {},
   "outputs": [
    {
     "data": {
      "text/plain": [
       "1230000.0"
      ]
     },
     "execution_count": 5,
     "metadata": {},
     "output_type": "execute_result"
    }
   ],
   "source": [
    "1_000_000 * (1 + 0.23)"
   ]
  },
  {
   "cell_type": "markdown",
   "id": "db68a47a",
   "metadata": {
    "direction": "rtl"
   },
   "source": [
    "### پس از سرمایه گذاری ۱٬۰۰۰٬۰۰۰ تومان برای سه سال با نرخ بهره ۲۳% سالیانه، پول شما چقدر می شود؟"
   ]
  },
  {
   "cell_type": "code",
   "execution_count": 6,
   "id": "3baf7e24",
   "metadata": {},
   "outputs": [
    {
     "data": {
      "text/plain": [
       "1860867.0"
      ]
     },
     "execution_count": 6,
     "metadata": {},
     "output_type": "execute_result"
    }
   ],
   "source": [
    "1_000_000 * 1.23 * 1.23 * 1.23"
   ]
  },
  {
   "cell_type": "code",
   "execution_count": 7,
   "id": "68f1262d",
   "metadata": {},
   "outputs": [
    {
     "data": {
      "text/plain": [
       "1860866.9999999998"
      ]
     },
     "execution_count": 7,
     "metadata": {},
     "output_type": "execute_result"
    }
   ],
   "source": [
    "1_000_000 * 1.23 ** 3"
   ]
  },
  {
   "cell_type": "code",
   "execution_count": null,
   "id": "c7f1732b",
   "metadata": {},
   "outputs": [],
   "source": []
  },
  {
   "cell_type": "markdown",
   "id": "e7ffdfa1",
   "metadata": {
    "direction": "rtl"
   },
   "source": [
    "## تمرین ۱-۱: \n",
    "\n",
    "### پس از سرمایه گذاری ۵٬۰۰۰٬۰۰۰ تومان برای ده سال با نرخ بهره ۱۶% سالیانه، پول شما چقدر می شود؟"
   ]
  },
  {
   "cell_type": "code",
   "execution_count": 8,
   "id": "172baf16",
   "metadata": {},
   "outputs": [
    {
     "data": {
      "text/plain": [
       "22057175.39324956"
      ]
     },
     "execution_count": 8,
     "metadata": {},
     "output_type": "execute_result"
    }
   ],
   "source": [
    "5_000_000 * (1.16 ** 10)"
   ]
  },
  {
   "cell_type": "code",
   "execution_count": null,
   "id": "bc401a80",
   "metadata": {},
   "outputs": [],
   "source": []
  },
  {
   "cell_type": "markdown",
   "id": "0d81dd0c",
   "metadata": {
    "direction": "rtl"
   },
   "source": [
    "## محاسبه ارزش حال (PV)"
   ]
  },
  {
   "cell_type": "markdown",
   "id": "7a0c95ad",
   "metadata": {
    "direction": "rtl"
   },
   "source": [
    "### محاسبه ارزش حال (یک دوره ای): چقدر باید در حال حاضر سرمایه گذاری کنیم که با نرخ بهره ۳۰% سالیانه، ۱٬۳۰۰٬۰۰۰ تومان در یک سال به دست آوریم؟"
   ]
  },
  {
   "cell_type": "code",
   "execution_count": 9,
   "id": "933e6539",
   "metadata": {},
   "outputs": [
    {
     "data": {
      "text/plain": [
       "1000000.0"
      ]
     },
     "execution_count": 9,
     "metadata": {},
     "output_type": "execute_result"
    }
   ],
   "source": [
    "1_300_000 / 1.3"
   ]
  },
  {
   "cell_type": "code",
   "execution_count": 10,
   "id": "f718cf16",
   "metadata": {},
   "outputs": [
    {
     "data": {
      "text/plain": [
       "1000000.0"
      ]
     },
     "execution_count": 10,
     "metadata": {},
     "output_type": "execute_result"
    }
   ],
   "source": [
    "1_300_000 / (1 + 0.3)"
   ]
  },
  {
   "cell_type": "code",
   "execution_count": 11,
   "id": "13c0e784",
   "metadata": {},
   "outputs": [
    {
     "data": {
      "text/plain": [
       "1000000.0"
      ]
     },
     "execution_count": 11,
     "metadata": {},
     "output_type": "execute_result"
    }
   ],
   "source": [
    "1_300_000 / (1 + 0.3)"
   ]
  },
  {
   "cell_type": "markdown",
   "id": "967f1a26",
   "metadata": {
    "direction": "rtl"
   },
   "source": [
    "### محاسبه ارزش حال (چند دوره ای): چقدر باید در حال حاضر سرمایه گذاری کنیم که با نرخ بهره ۳۰% سالیانه، ۱٬۳۰۰٬۰۰۰ تومان در سه سال به دست آوریم؟"
   ]
  },
  {
   "cell_type": "code",
   "execution_count": 12,
   "id": "78ed5545",
   "metadata": {},
   "outputs": [
    {
     "data": {
      "text/plain": [
       "591715.976331361"
      ]
     },
     "execution_count": 12,
     "metadata": {},
     "output_type": "execute_result"
    }
   ],
   "source": [
    "1_300_000 / 1.3 / 1.3 / 1.3"
   ]
  },
  {
   "cell_type": "code",
   "execution_count": 13,
   "id": "94a9f218",
   "metadata": {},
   "outputs": [
    {
     "data": {
      "text/plain": [
       "591715.976331361"
      ]
     },
     "execution_count": 13,
     "metadata": {},
     "output_type": "execute_result"
    }
   ],
   "source": [
    "1_300_000 / 1.3 ** 3"
   ]
  },
  {
   "cell_type": "code",
   "execution_count": null,
   "id": "a09acf91",
   "metadata": {},
   "outputs": [],
   "source": []
  },
  {
   "cell_type": "markdown",
   "id": "73f511c9",
   "metadata": {
    "direction": "rtl"
   },
   "source": [
    "## تمرین ۱-۲:"
   ]
  },
  {
   "cell_type": "markdown",
   "id": "af111320",
   "metadata": {
    "direction": "rtl"
   },
   "source": [
    "### چقدر باید در حال حاضر سرمایه گذاری کنیم که با نرخ بهره ۲۳٪ سالیانه، ۱٬۰۰۰٬۰۰۰٬۰۰۰ تومان در ده سال آینده به دست آوریم؟"
   ]
  },
  {
   "cell_type": "code",
   "execution_count": 14,
   "id": "74505642",
   "metadata": {},
   "outputs": [
    {
     "data": {
      "text/plain": [
       "126167903.22332937"
      ]
     },
     "execution_count": 14,
     "metadata": {},
     "output_type": "execute_result"
    }
   ],
   "source": [
    "1_000_000_000 / 1.23 ** 10"
   ]
  },
  {
   "cell_type": "code",
   "execution_count": null,
   "id": "a60ea42b",
   "metadata": {},
   "outputs": [],
   "source": []
  },
  {
   "cell_type": "markdown",
   "id": "1227a012",
   "metadata": {
    "direction": "rtl"
   },
   "source": [
    "# محاسبه نرخ بهره و بازدهی"
   ]
  },
  {
   "cell_type": "markdown",
   "id": "6569fa1b",
   "metadata": {
    "direction": "rtl"
   },
   "source": [
    "### محاسبه نرخ بهره (یک دوره ای): امروز پیشنهادی برای سرمایه گذاری ۵٬۰۰۰٬۰۰۰ تومانی برای دریافت ۶٬۰۰۰٬۰۰۰ تومان در یک سال آینده دریافت کرده‌اید، نرخ بهره چقدر است؟"
   ]
  },
  {
   "cell_type": "code",
   "execution_count": 15,
   "id": "da9121a2",
   "metadata": {},
   "outputs": [
    {
     "data": {
      "text/plain": [
       "0.19999999999999996"
      ]
     },
     "execution_count": 15,
     "metadata": {},
     "output_type": "execute_result"
    }
   ],
   "source": [
    "6_000_000 / 5_000_000 - 1"
   ]
  },
  {
   "cell_type": "code",
   "execution_count": 16,
   "id": "12d8c37c",
   "metadata": {},
   "outputs": [
    {
     "data": {
      "text/plain": [
       "0.2"
      ]
     },
     "execution_count": 16,
     "metadata": {},
     "output_type": "execute_result"
    }
   ],
   "source": [
    "(6_000_000 - 5_000_000) / 5_000_000"
   ]
  },
  {
   "cell_type": "markdown",
   "id": "bf8a63b8",
   "metadata": {
    "direction": "rtl"
   },
   "source": [
    "### محاسبه نرخ بهره (چند دوره ای): امروز پیشنهادی برای سرمایه گذاری ۵٬۰۰۰٬۰۰۰ تومانی برای دریافت ۶٬۰۰۰٬۰۰۰ تومان در سه سال آینده دریافت کرده‌اید، نرخ بهره چقدر است؟"
   ]
  },
  {
   "cell_type": "code",
   "execution_count": 17,
   "id": "8d62323c",
   "metadata": {},
   "outputs": [
    {
     "data": {
      "text/plain": [
       "6.265856918261115"
      ]
     },
     "execution_count": 17,
     "metadata": {},
     "output_type": "execute_result"
    }
   ],
   "source": [
    "((6_000_000 / 5_000_000) ** (1/3) - 1) * 100"
   ]
  },
  {
   "cell_type": "code",
   "execution_count": 18,
   "id": "0a116b57",
   "metadata": {},
   "outputs": [
    {
     "data": {
      "text/plain": [
       "6000000.000000001"
      ]
     },
     "execution_count": 18,
     "metadata": {},
     "output_type": "execute_result"
    }
   ],
   "source": [
    "5_000_000 * (1 + 0.06265856918261115) ** 3"
   ]
  },
  {
   "cell_type": "markdown",
   "id": "fbd1744a",
   "metadata": {
    "direction": "rtl"
   },
   "source": [
    "### محاسبه **بازده قیمتی**: **یک سال** پیش شما سهمی با قیمت ۱۲۰۰ تومان خریداری کردید و قیمت حال حاضر سهم ۲۰۰۰ تومان است. بازده قیمت چقدر است؟"
   ]
  },
  {
   "cell_type": "code",
   "execution_count": 19,
   "id": "8adae39c",
   "metadata": {},
   "outputs": [
    {
     "data": {
      "text/plain": [
       "0.6666666666666667"
      ]
     },
     "execution_count": 19,
     "metadata": {},
     "output_type": "execute_result"
    }
   ],
   "source": [
    "2000 / 1200 - 1"
   ]
  },
  {
   "cell_type": "markdown",
   "id": "de31572e",
   "metadata": {
    "direction": "rtl"
   },
   "source": [
    "### محاسبه بازدهی کل: یک سال پیش شما سهمی با قیمت ۱۲۰۰ تومان خریداری کردید و اخیرا ۲۰۰ تومان تقسیم سود در این سهم انجام شده و قیمت حال حاضر سهم ۲۰۰۰ تومان است. بازده قیمت چقدر است؟"
   ]
  },
  {
   "cell_type": "code",
   "execution_count": 20,
   "id": "a048acda",
   "metadata": {},
   "outputs": [
    {
     "data": {
      "text/plain": [
       "0.8333333333333333"
      ]
     },
     "execution_count": 20,
     "metadata": {},
     "output_type": "execute_result"
    }
   ],
   "source": [
    "(2000 + 200) / 1200 - 1"
   ]
  },
  {
   "cell_type": "code",
   "execution_count": 21,
   "id": "e9e62689",
   "metadata": {},
   "outputs": [
    {
     "data": {
      "text/plain": [
       "0.8333333333333334"
      ]
     },
     "execution_count": 21,
     "metadata": {},
     "output_type": "execute_result"
    }
   ],
   "source": [
    "(2000 / 1200) - 1 + (200 / 1200)"
   ]
  },
  {
   "cell_type": "code",
   "execution_count": 22,
   "id": "7f3bac79",
   "metadata": {},
   "outputs": [
    {
     "data": {
      "text/plain": [
       "0.16666666666666666"
      ]
     },
     "execution_count": 22,
     "metadata": {},
     "output_type": "execute_result"
    }
   ],
   "source": [
    "200 / 1200"
   ]
  },
  {
   "cell_type": "code",
   "execution_count": null,
   "id": "cec9503e",
   "metadata": {},
   "outputs": [],
   "source": []
  },
  {
   "cell_type": "markdown",
   "id": "e3fb1c45",
   "metadata": {
    "direction": "rtl"
   },
   "source": [
    "## تمرین ۱-۳:"
   ]
  },
  {
   "cell_type": "markdown",
   "id": "e0f49730",
   "metadata": {
    "direction": "rtl"
   },
   "source": [
    "### مثال واقعی: شخصی در تاریخ ۲۷ خرداد ۱۴۰۲ سهم نوری را در قیمت ۱۳۴٬۰۰۰ ریال خریداری کرده است. در تاریخ ۲۰ تیر ۱۴۰۲ مجمع شرکت تشکیل شده و مبلغ ۱۳٬۰۰۰ ریال به ازای هر سهم dps پرداخت شده است. اگر شخص در اولین روز بازگشایی سهم پس از مجمع سالیانه یعنی در تاریخ ۲۶ تیر ۱۴۰۲ سهم خود را به مبلغ ۱۱۹٬۰۰۰ ریال بفروشد، بازدهی سهم در این مدت یک ماهه چقدر است؟"
   ]
  },
  {
   "cell_type": "code",
   "execution_count": 23,
   "id": "a0106177",
   "metadata": {},
   "outputs": [
    {
     "data": {
      "text/plain": [
       "-0.014925373134328401"
      ]
     },
     "execution_count": 23,
     "metadata": {},
     "output_type": "execute_result"
    }
   ],
   "source": [
    "(119_000 + 13_000) / 134_000 - 1"
   ]
  },
  {
   "cell_type": "code",
   "execution_count": 24,
   "id": "a5d76c69",
   "metadata": {},
   "outputs": [
    {
     "data": {
      "text/plain": [
       "-1.4925373134328401"
      ]
     },
     "execution_count": 24,
     "metadata": {},
     "output_type": "execute_result"
    }
   ],
   "source": [
    "((119_000 + 13_000) / 134_000 - 1) * 100"
   ]
  },
  {
   "cell_type": "code",
   "execution_count": null,
   "id": "d0754822",
   "metadata": {},
   "outputs": [],
   "source": []
  },
  {
   "cell_type": "markdown",
   "id": "493eb9d4",
   "metadata": {
    "direction": "rtl"
   },
   "source": [
    "# معرفی متغیرها"
   ]
  },
  {
   "cell_type": "markdown",
   "id": "9b0440e0",
   "metadata": {
    "direction": "rtl"
   },
   "source": [
    "### پس از سرمایه گذاری ۱٬۰۰۰٬۰۰۰ تومان برای سه سال با نرخ بهره ۲۳% سالیانه، پول شما چقدر می شود؟"
   ]
  },
  {
   "cell_type": "code",
   "execution_count": 25,
   "id": "03129290",
   "metadata": {},
   "outputs": [
    {
     "data": {
      "text/plain": [
       "1860866.9999999998"
      ]
     },
     "execution_count": 25,
     "metadata": {},
     "output_type": "execute_result"
    }
   ],
   "source": [
    "1_000_000 * 1.23 ** 3"
   ]
  },
  {
   "cell_type": "code",
   "execution_count": 26,
   "id": "404a1bd4",
   "metadata": {},
   "outputs": [],
   "source": [
    "FV = 1_000_000 * 1.23 ** 3"
   ]
  },
  {
   "cell_type": "code",
   "execution_count": 27,
   "id": "082298d9",
   "metadata": {},
   "outputs": [
    {
     "data": {
      "text/plain": [
       "1860866.9999999998"
      ]
     },
     "execution_count": 27,
     "metadata": {},
     "output_type": "execute_result"
    }
   ],
   "source": [
    "FV"
   ]
  },
  {
   "cell_type": "code",
   "execution_count": 28,
   "id": "01c86d6b",
   "metadata": {},
   "outputs": [],
   "source": [
    "FV = 1_000_000 * 1.23 ** 3"
   ]
  },
  {
   "cell_type": "code",
   "execution_count": 29,
   "id": "7e2951a4",
   "metadata": {},
   "outputs": [],
   "source": [
    "PV = 1_000_000\n",
    "r = 0.23\n",
    "n = 3"
   ]
  },
  {
   "cell_type": "code",
   "execution_count": 30,
   "id": "809c1ea0",
   "metadata": {},
   "outputs": [
    {
     "data": {
      "text/plain": [
       "1000000"
      ]
     },
     "execution_count": 30,
     "metadata": {},
     "output_type": "execute_result"
    }
   ],
   "source": [
    "PV"
   ]
  },
  {
   "cell_type": "code",
   "execution_count": 31,
   "id": "9acb8d65",
   "metadata": {},
   "outputs": [
    {
     "data": {
      "text/plain": [
       "0.23"
      ]
     },
     "execution_count": 31,
     "metadata": {},
     "output_type": "execute_result"
    }
   ],
   "source": [
    "r"
   ]
  },
  {
   "cell_type": "code",
   "execution_count": 32,
   "id": "f5dc47db",
   "metadata": {},
   "outputs": [
    {
     "data": {
      "text/plain": [
       "3"
      ]
     },
     "execution_count": 32,
     "metadata": {},
     "output_type": "execute_result"
    }
   ],
   "source": [
    "n"
   ]
  },
  {
   "cell_type": "code",
   "execution_count": 33,
   "id": "0fa47d75",
   "metadata": {},
   "outputs": [
    {
     "data": {
      "text/plain": [
       "1860866.9999999998"
      ]
     },
     "execution_count": 33,
     "metadata": {},
     "output_type": "execute_result"
    }
   ],
   "source": [
    "PV * (1 + r) ** n"
   ]
  },
  {
   "cell_type": "code",
   "execution_count": 34,
   "id": "4187cfd2",
   "metadata": {},
   "outputs": [],
   "source": [
    "FV = PV * (1 + r) ** n"
   ]
  },
  {
   "cell_type": "code",
   "execution_count": 35,
   "id": "07a34f2a",
   "metadata": {},
   "outputs": [
    {
     "data": {
      "text/plain": [
       "1860866.9999999998"
      ]
     },
     "execution_count": 35,
     "metadata": {},
     "output_type": "execute_result"
    }
   ],
   "source": [
    "FV"
   ]
  },
  {
   "cell_type": "markdown",
   "id": "847ef889",
   "metadata": {
    "direction": "rtl"
   },
   "source": [
    "## تمرین ۱-۴:\n",
    "\n",
    "### پس از سرمایه گذاری ۵٬۰۰۰٬۰۰۰ تومان برای ده سال با نرخ بهره ۱۶% سالیانه، پول شما چقدر می شود؟ (با متغیرها حل شود)"
   ]
  },
  {
   "cell_type": "code",
   "execution_count": 41,
   "id": "01d311c0",
   "metadata": {},
   "outputs": [],
   "source": [
    "PV = 5_000_000  # present value\n",
    "r = 0.16  # interest rate\n",
    "n = 10"
   ]
  },
  {
   "cell_type": "code",
   "execution_count": 45,
   "id": "739bc216",
   "metadata": {},
   "outputs": [
    {
     "data": {
      "text/plain": [
       "22057175.39324956"
      ]
     },
     "execution_count": 45,
     "metadata": {},
     "output_type": "execute_result"
    }
   ],
   "source": [
    "# calculation FV\n",
    "FV = PV * (1 + r) ** n \n",
    "FV"
   ]
  },
  {
   "cell_type": "code",
   "execution_count": null,
   "id": "a42b7ce4",
   "metadata": {},
   "outputs": [],
   "source": []
  }
 ],
 "metadata": {
  "kernelspec": {
   "display_name": "Python 3 (ipykernel)",
   "language": "python",
   "name": "python3"
  },
  "language_info": {
   "codemirror_mode": {
    "name": "ipython",
    "version": 3
   },
   "file_extension": ".py",
   "mimetype": "text/x-python",
   "name": "python",
   "nbconvert_exporter": "python",
   "pygments_lexer": "ipython3",
   "version": "3.11.4"
  }
 },
 "nbformat": 4,
 "nbformat_minor": 5
}
