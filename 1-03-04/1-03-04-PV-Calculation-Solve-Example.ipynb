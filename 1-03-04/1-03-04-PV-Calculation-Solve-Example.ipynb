{
 "cells": [
  {
   "cell_type": "markdown",
   "id": "9c1e07c5",
   "metadata": {
    "direction": "rtl"
   },
   "source": [
    "# محاسبه ارزش آتی (FV)"
   ]
  },
  {
   "cell_type": "markdown",
   "id": "9c5cc84d",
   "metadata": {
    "direction": "rtl"
   },
   "source": [
    "### پس از سرمایه گذاری ۱٬۰۰۰٬۰۰۰ تومان برای یک سال با نرخ بهره ۲۳% سالیانه، پول شما چقدر می شود؟"
   ]
  },
  {
   "cell_type": "code",
   "execution_count": 1,
   "id": "86aac050",
   "metadata": {},
   "outputs": [
    {
     "data": {
      "text/plain": [
       "1230000.0"
      ]
     },
     "execution_count": 1,
     "metadata": {},
     "output_type": "execute_result"
    }
   ],
   "source": [
    "1000000 * 1.23"
   ]
  },
  {
   "cell_type": "code",
   "execution_count": 2,
   "id": "e558fce2",
   "metadata": {},
   "outputs": [
    {
     "data": {
      "text/plain": [
       "1230000.0"
      ]
     },
     "execution_count": 2,
     "metadata": {},
     "output_type": "execute_result"
    }
   ],
   "source": [
    "1_000_000 * 1.23"
   ]
  },
  {
   "cell_type": "code",
   "execution_count": 3,
   "id": "2859abd1",
   "metadata": {},
   "outputs": [
    {
     "data": {
      "text/plain": [
       "1230000.0"
      ]
     },
     "execution_count": 3,
     "metadata": {},
     "output_type": "execute_result"
    }
   ],
   "source": [
    "1_000_000 + 1_000_000 * 0.23"
   ]
  },
  {
   "cell_type": "code",
   "execution_count": 4,
   "id": "6180ae0f",
   "metadata": {},
   "outputs": [
    {
     "data": {
      "text/plain": [
       "1230000.0"
      ]
     },
     "execution_count": 4,
     "metadata": {},
     "output_type": "execute_result"
    }
   ],
   "source": [
    "1_000_000 * (1 + 0.23)"
   ]
  },
  {
   "cell_type": "code",
   "execution_count": 5,
   "id": "7f6b8554",
   "metadata": {},
   "outputs": [
    {
     "data": {
      "text/plain": [
       "1230000.0"
      ]
     },
     "execution_count": 5,
     "metadata": {},
     "output_type": "execute_result"
    }
   ],
   "source": [
    "1_000_000 * (1 + 0.23)"
   ]
  },
  {
   "cell_type": "markdown",
   "id": "db68a47a",
   "metadata": {
    "direction": "rtl"
   },
   "source": [
    "### پس از سرمایه گذاری ۱٬۰۰۰٬۰۰۰ تومان برای سه سال با نرخ بهره ۲۳% سالیانه، پول شما چقدر می شود؟"
   ]
  },
  {
   "cell_type": "code",
   "execution_count": 6,
   "id": "3baf7e24",
   "metadata": {},
   "outputs": [
    {
     "data": {
      "text/plain": [
       "1860867.0"
      ]
     },
     "execution_count": 6,
     "metadata": {},
     "output_type": "execute_result"
    }
   ],
   "source": [
    "1_000_000 * 1.23 * 1.23 * 1.23"
   ]
  },
  {
   "cell_type": "code",
   "execution_count": 7,
   "id": "68f1262d",
   "metadata": {},
   "outputs": [
    {
     "data": {
      "text/plain": [
       "1860866.9999999998"
      ]
     },
     "execution_count": 7,
     "metadata": {},
     "output_type": "execute_result"
    }
   ],
   "source": [
    "1_000_000 * 1.23 ** 3"
   ]
  },
  {
   "cell_type": "code",
   "execution_count": null,
   "id": "c7f1732b",
   "metadata": {},
   "outputs": [],
   "source": []
  },
  {
   "cell_type": "markdown",
   "id": "e7ffdfa1",
   "metadata": {
    "direction": "rtl"
   },
   "source": [
    "## تمرین ۱-۱: \n",
    "\n",
    "### پس از سرمایه گذاری ۵٬۰۰۰٬۰۰۰ تومان برای ده سال با نرخ بهره ۱۶% سالیانه، پول شما چقدر می شود؟"
   ]
  },
  {
   "cell_type": "code",
   "execution_count": 9,
   "id": "172baf16",
   "metadata": {},
   "outputs": [
    {
     "data": {
      "text/plain": [
       "22057175.39324956"
      ]
     },
     "execution_count": 9,
     "metadata": {},
     "output_type": "execute_result"
    }
   ],
   "source": [
    "5_000_000 * (1.16 ** 10)"
   ]
  },
  {
   "cell_type": "code",
   "execution_count": null,
   "id": "bc401a80",
   "metadata": {},
   "outputs": [],
   "source": []
  },
  {
   "cell_type": "markdown",
   "id": "0d81dd0c",
   "metadata": {
    "direction": "rtl"
   },
   "source": [
    "## محاسبه ارزش حال (PV)"
   ]
  },
  {
   "cell_type": "markdown",
   "id": "7a0c95ad",
   "metadata": {
    "direction": "rtl"
   },
   "source": [
    "### محاسبه ارزش حال (یک دوره ای): چقدر باید در حال حاضر سرمایه گذاری کنیم که با نرخ بهره ۳۰% سالیانه، ۱٬۳۰۰٬۰۰۰ تومان در یک سال به دست آوریم؟"
   ]
  },
  {
   "cell_type": "code",
   "execution_count": 10,
   "id": "933e6539",
   "metadata": {},
   "outputs": [
    {
     "data": {
      "text/plain": [
       "1000000.0"
      ]
     },
     "execution_count": 10,
     "metadata": {},
     "output_type": "execute_result"
    }
   ],
   "source": [
    "1_300_000 / 1.3"
   ]
  },
  {
   "cell_type": "code",
   "execution_count": 11,
   "id": "f718cf16",
   "metadata": {},
   "outputs": [
    {
     "data": {
      "text/plain": [
       "1000000.0"
      ]
     },
     "execution_count": 11,
     "metadata": {},
     "output_type": "execute_result"
    }
   ],
   "source": [
    "1_300_000 / (1 + 0.3)"
   ]
  },
  {
   "cell_type": "code",
   "execution_count": 13,
   "id": "13c0e784",
   "metadata": {},
   "outputs": [
    {
     "data": {
      "text/plain": [
       "1000000.0"
      ]
     },
     "execution_count": 13,
     "metadata": {},
     "output_type": "execute_result"
    }
   ],
   "source": [
    "1_300_000 / (1 + 0.3)"
   ]
  },
  {
   "cell_type": "markdown",
   "id": "967f1a26",
   "metadata": {
    "direction": "rtl"
   },
   "source": [
    "### محاسبه ارزش حال (چند دوره ای): چقدر باید در حال حاضر سرمایه گذاری کنیم که با نرخ بهره ۳۰% سالیانه، ۱٬۳۰۰٬۰۰۰ تومان در سه سال به دست آوریم؟"
   ]
  },
  {
   "cell_type": "code",
   "execution_count": 14,
   "id": "78ed5545",
   "metadata": {},
   "outputs": [
    {
     "data": {
      "text/plain": [
       "591715.976331361"
      ]
     },
     "execution_count": 14,
     "metadata": {},
     "output_type": "execute_result"
    }
   ],
   "source": [
    "1_300_000 / 1.3 / 1.3 / 1.3"
   ]
  },
  {
   "cell_type": "code",
   "execution_count": 15,
   "id": "94a9f218",
   "metadata": {},
   "outputs": [
    {
     "data": {
      "text/plain": [
       "591715.976331361"
      ]
     },
     "execution_count": 15,
     "metadata": {},
     "output_type": "execute_result"
    }
   ],
   "source": [
    "1_300_000 / 1.3 ** 3"
   ]
  },
  {
   "cell_type": "code",
   "execution_count": null,
   "id": "a09acf91",
   "metadata": {},
   "outputs": [],
   "source": []
  },
  {
   "cell_type": "markdown",
   "id": "73f511c9",
   "metadata": {
    "direction": "rtl"
   },
   "source": [
    "## تمرین ۱-۲:"
   ]
  },
  {
   "cell_type": "markdown",
   "id": "af111320",
   "metadata": {
    "direction": "rtl"
   },
   "source": [
    "### چقدر باید در حال حاضر سرمایه گذاری کنیم که با نرخ بهره ۲۳٪ سالیانه، ۱٬۰۰۰٬۰۰۰٬۰۰۰ تومان در ده سال آینده به دست آوریم؟"
   ]
  },
  {
   "cell_type": "code",
   "execution_count": 2,
   "id": "74505642",
   "metadata": {},
   "outputs": [
    {
     "data": {
      "text/plain": [
       "126167903.22332937"
      ]
     },
     "execution_count": 2,
     "metadata": {},
     "output_type": "execute_result"
    }
   ],
   "source": [
    "1_000_000_000 / 1.23 ** 10"
   ]
  },
  {
   "cell_type": "code",
   "execution_count": null,
   "id": "a60ea42b",
   "metadata": {},
   "outputs": [],
   "source": []
  },
  {
   "cell_type": "code",
   "execution_count": null,
   "id": "cfbbf696",
   "metadata": {},
   "outputs": [],
   "source": []
  }
 ],
 "metadata": {
  "kernelspec": {
   "display_name": "Python 3 (ipykernel)",
   "language": "python",
   "name": "python3"
  },
  "language_info": {
   "codemirror_mode": {
    "name": "ipython",
    "version": 3
   },
   "file_extension": ".py",
   "mimetype": "text/x-python",
   "name": "python",
   "nbconvert_exporter": "python",
   "pygments_lexer": "ipython3",
   "version": "3.11.4"
  }
 },
 "nbformat": 4,
 "nbformat_minor": 5
}
