{
 "cells": [
  {
   "cell_type": "markdown",
   "id": "9c1e07c5",
   "metadata": {
    "direction": "rtl"
   },
   "source": [
    "# محاسبه ارزش آتی (FV)"
   ]
  },
  {
   "cell_type": "markdown",
   "id": "9c5cc84d",
   "metadata": {
    "direction": "rtl"
   },
   "source": [
    "### پس از سرمایه گذاری ۱٬۰۰۰٬۰۰۰ تومان برای یک سال با نرخ بهره ۲۳% سالیانه، پول شما چقدر می شود؟"
   ]
  },
  {
   "cell_type": "code",
   "execution_count": 1,
   "id": "86aac050",
   "metadata": {},
   "outputs": [
    {
     "data": {
      "text/plain": [
       "1230000.0"
      ]
     },
     "execution_count": 1,
     "metadata": {},
     "output_type": "execute_result"
    }
   ],
   "source": [
    "1000000 * 1.23"
   ]
  },
  {
   "cell_type": "code",
   "execution_count": 2,
   "id": "e558fce2",
   "metadata": {},
   "outputs": [
    {
     "data": {
      "text/plain": [
       "1230000.0"
      ]
     },
     "execution_count": 2,
     "metadata": {},
     "output_type": "execute_result"
    }
   ],
   "source": [
    "1_000_000 * 1.23"
   ]
  },
  {
   "cell_type": "code",
   "execution_count": 3,
   "id": "2859abd1",
   "metadata": {},
   "outputs": [
    {
     "data": {
      "text/plain": [
       "1230000.0"
      ]
     },
     "execution_count": 3,
     "metadata": {},
     "output_type": "execute_result"
    }
   ],
   "source": [
    "1_000_000 + 1_000_000 * 0.23"
   ]
  },
  {
   "cell_type": "code",
   "execution_count": 5,
   "id": "6180ae0f",
   "metadata": {},
   "outputs": [
    {
     "data": {
      "text/plain": [
       "1230000.0"
      ]
     },
     "execution_count": 5,
     "metadata": {},
     "output_type": "execute_result"
    }
   ],
   "source": [
    "1_000_000 * (1 + 0.23)"
   ]
  },
  {
   "cell_type": "code",
   "execution_count": 7,
   "id": "7f6b8554",
   "metadata": {},
   "outputs": [
    {
     "data": {
      "text/plain": [
       "1230000.0"
      ]
     },
     "execution_count": 7,
     "metadata": {},
     "output_type": "execute_result"
    }
   ],
   "source": [
    "1_000_000 * (1 + 0.23)"
   ]
  },
  {
   "cell_type": "markdown",
   "id": "db68a47a",
   "metadata": {
    "direction": "rtl"
   },
   "source": [
    "### پس از سرمایه گذاری ۱٬۰۰۰٬۰۰۰ تومان برای سه سال با نرخ بهره ۲۳% سالیانه، پول شما چقدر می شود؟"
   ]
  },
  {
   "cell_type": "code",
   "execution_count": 8,
   "id": "3baf7e24",
   "metadata": {},
   "outputs": [
    {
     "data": {
      "text/plain": [
       "1860867.0"
      ]
     },
     "execution_count": 8,
     "metadata": {},
     "output_type": "execute_result"
    }
   ],
   "source": [
    "1_000_000 * 1.23 * 1.23 * 1.23"
   ]
  },
  {
   "cell_type": "code",
   "execution_count": 9,
   "id": "68f1262d",
   "metadata": {},
   "outputs": [
    {
     "data": {
      "text/plain": [
       "1860866.9999999998"
      ]
     },
     "execution_count": 9,
     "metadata": {},
     "output_type": "execute_result"
    }
   ],
   "source": [
    "1_000_000 * 1.23 ** 3"
   ]
  },
  {
   "cell_type": "code",
   "execution_count": null,
   "id": "c7f1732b",
   "metadata": {},
   "outputs": [],
   "source": []
  },
  {
   "cell_type": "markdown",
   "id": "e7ffdfa1",
   "metadata": {
    "direction": "rtl"
   },
   "source": [
    "## تمرین ۱-۱: \n",
    "\n",
    "### پس از سرمایه گذاری ۵٬۰۰۰٬۰۰۰ تومان برای ده سال با نرخ بهره ۱۶% سالیانه، پول شما چقدر می شود؟"
   ]
  },
  {
   "cell_type": "code",
   "execution_count": null,
   "id": "172baf16",
   "metadata": {},
   "outputs": [],
   "source": []
  },
  {
   "cell_type": "code",
   "execution_count": null,
   "id": "bc401a80",
   "metadata": {},
   "outputs": [],
   "source": []
  },
  {
   "cell_type": "code",
   "execution_count": null,
   "id": "d9ac97ea",
   "metadata": {},
   "outputs": [],
   "source": []
  },
  {
   "cell_type": "code",
   "execution_count": null,
   "id": "361aee98",
   "metadata": {},
   "outputs": [],
   "source": []
  },
  {
   "cell_type": "code",
   "execution_count": null,
   "id": "933e6539",
   "metadata": {},
   "outputs": [],
   "source": []
  }
 ],
 "metadata": {
  "kernelspec": {
   "display_name": "Python 3 (ipykernel)",
   "language": "python",
   "name": "python3"
  },
  "language_info": {
   "codemirror_mode": {
    "name": "ipython",
    "version": 3
   },
   "file_extension": ".py",
   "mimetype": "text/x-python",
   "name": "python",
   "nbconvert_exporter": "python",
   "pygments_lexer": "ipython3",
   "version": "3.11.4"
  }
 },
 "nbformat": 4,
 "nbformat_minor": 5
}
